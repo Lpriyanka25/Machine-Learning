{
 "cells": [
  {
   "cell_type": "code",
   "execution_count": 20,
   "id": "8e7dbed2-3399-49be-a161-96b0602828a4",
   "metadata": {},
   "outputs": [
    {
     "name": "stdout",
     "output_type": "stream",
     "text": [
      "Prediction for Day 7: Rain\n",
      "Probability of Rain: 66.07%\n",
      "Probability of No Rain: 33.93%\n"
     ]
    }
   ],
   "source": [
    "import pandas as pd\n",
    "import numpy as np\n",
    "\n",
    "# Create the dataset\n",
    "data = pd.DataFrame({\n",
    "    'Day': [1, 2, 3, 4, 5, 6, 7],\n",
    "    'Temperature': [25, 28, 30, 22, 20, 27, 26],\n",
    "    'Humidity': [70, 80, 90, 60, 50, 75, 75],\n",
    "    'Pressure': [1010, 1005, 1000, 1015, 1020, 1008, 1012],\n",
    "    'Wind_Speed': [10, 15, 20, 5, 0, 12, 15],\n",
    "    'Cloud_Cover': [30, 50, 80, 20, 10, 40, 60],\n",
    "    'Rainfall': [0, 10, 20, 0, 0, 5, '?']\n",
    "})\n",
    "\n",
    "# Convert rainfall to binary (Rain/No Rain)\n",
    "data['Rain'] = data['Rainfall'].apply(lambda x: 'Yes' if x not in [0, '?'] else 'No')\n",
    "\n",
    "# Calculate prior probabilities\n",
    "total_days = len(data[data['Rain'] != '?'])\n",
    "rain_days = len(data[data['Rain'] == 'Yes'])\n",
    "no_rain_days = len(data[data['Rain'] == 'No'])\n",
    "\n",
    "P_rain = rain_days / total_days\n",
    "P_no_rain = no_rain_days / total_days\n",
    "\n",
    "# Function to calculate likelihood for a feature\n",
    "def calculate_likelihood(feature_value, feature_name, rain_condition):\n",
    "    # Get mean and std for the feature based on rain condition\n",
    "    subset = data[data['Rain'] == rain_condition][feature_name]\n",
    "    mean = subset.mean()\n",
    "    std = subset.std()\n",
    "    \n",
    "    # Using Gaussian probability density\n",
    "    if std == 0:  # Handle zero standard deviation\n",
    "        return 1 if abs(feature_value - mean) < 0.1 else 0\n",
    "    exponent = -((feature_value - mean) ** 2) / (2 * (std ** 2))\n",
    "    return (1 / (std * np.sqrt(2 * np.pi))) * np.exp(exponent)\n",
    "\n",
    "# Day 7 features\n",
    "day7_features = {\n",
    "    'Temperature': 26,\n",
    "    'Humidity': 75,\n",
    "    'Pressure': 1012,\n",
    "    'Wind_Speed': 15,\n",
    "    'Cloud_Cover': 60\n",
    "}\n",
    "\n",
    "# Calculate likelihoods for rain\n",
    "rain_likelihood = P_rain\n",
    "no_rain_likelihood = P_no_rain\n",
    "\n",
    "for feature, value in day7_features.items():\n",
    "    rain_likelihood *= calculate_likelihood(value, feature, 'Yes')\n",
    "    no_rain_likelihood *= calculate_likelihood(value, feature, 'No')\n",
    "\n",
    "# Normalize probabilities\n",
    "total_likelihood = rain_likelihood + no_rain_likelihood\n",
    "rain_probability = rain_likelihood / total_likelihood\n",
    "no_rain_probability = no_rain_likelihood / total_likelihood\n",
    "\n",
    "prediction = \"Rain\" if rain_probability > no_rain_probability else \"No Rain\"\n",
    "print(f\"Prediction for Day 7: {prediction}\")\n",
    "print(f\"Probability of Rain: {rain_probability:.2%}\")\n",
    "print(f\"Probability of No Rain: {no_rain_probability:.2%}\")"
   ]
  },
  {
   "cell_type": "code",
   "execution_count": null,
   "id": "a596b680-06ef-4756-b3b9-c8a761a13f95",
   "metadata": {},
   "outputs": [],
   "source": []
  },
  {
   "cell_type": "code",
   "execution_count": null,
   "id": "d877ecfd-760a-4076-b7b8-3807e5be7bbe",
   "metadata": {},
   "outputs": [],
   "source": []
  },
  {
   "cell_type": "code",
   "execution_count": null,
   "id": "d91af486-b9e5-4b5b-b148-e7f21a3336ed",
   "metadata": {},
   "outputs": [],
   "source": []
  }
 ],
 "metadata": {
  "kernelspec": {
   "display_name": "Python 3 (ipykernel)",
   "language": "python",
   "name": "python3"
  },
  "language_info": {
   "codemirror_mode": {
    "name": "ipython",
    "version": 3
   },
   "file_extension": ".py",
   "mimetype": "text/x-python",
   "name": "python",
   "nbconvert_exporter": "python",
   "pygments_lexer": "ipython3",
   "version": "3.12.4"
  }
 },
 "nbformat": 4,
 "nbformat_minor": 5
}
